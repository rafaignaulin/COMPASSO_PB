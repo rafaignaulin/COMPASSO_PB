{
 "cells": [
  {
   "cell_type": "code",
   "execution_count": 17,
   "metadata": {
    "pycharm": {
     "name": "#%%\n"
    }
   },
   "outputs": [
    {
     "name": "stdout",
     "output_type": "stream",
     "text": [
      "{1, 2, 3, 5, 8, 13}\n"
     ]
    }
   ],
   "source": [
    "#Exercicio 1\n",
    "a = set([1, 1, 2, 3, 5, 8, 13, 21, 34, 55, 89])\n",
    "b = set([1, 2, 3, 4, 5, 6, 7, 8, 9, 10, 11, 12, 13])\n",
    "\n",
    "result = a.intersection(b)\n",
    "\n",
    "print(result)\n"
   ]
  },
  {
   "cell_type": "code",
   "execution_count": 18,
   "metadata": {
    "pycharm": {
     "name": "#%%\n"
    }
   },
   "outputs": [
    {
     "name": "stdout",
     "output_type": "stream",
     "text": [
      "[1, 7, 17, 31, 49, 71, 97, 127, 161, 199]\n"
     ]
    }
   ],
   "source": [
    "#Exercicio 2\n",
    "a = [1, 4, 9, 16, 25, 36, 49, 64, 81, 100]\n",
    "\n",
    "b = list(map(lambda x: 2*x - 1, a))\n",
    "print (b)"
   ]
  },
  {
   "cell_type": "code",
   "execution_count": 19,
   "metadata": {
    "pycharm": {
     "name": "#%%\n"
    }
   },
   "outputs": [
    {
     "name": "stdout",
     "output_type": "stream",
     "text": [
      "Passou, normal: atata \tInverso: atata\n"
     ]
    }
   ],
   "source": [
    "#Exercicio 3\n",
    "word = \"atata\"\n",
    "\n",
    "if word[::] == word[::-1]:\n",
    "    print(\"Passou, normal:\", word[::], '\\tInverso:', word[::-1])"
   ]
  },
  {
   "cell_type": "code",
   "execution_count": 20,
   "metadata": {
    "pycharm": {
     "name": "#%%\n"
    }
   },
   "outputs": [
    {
     "name": "stdout",
     "output_type": "stream",
     "text": [
      "Joao Soares - está com 19 anos\n",
      "Douglas Souza - está com 28 anos\n",
      "Lucas Silveira - está com 25 anos\n",
      "José Pedreira - está com 31 anos\n"
     ]
    }
   ],
   "source": [
    "#Exercicio 4\n",
    "\n",
    "primeirosNomes = ['Joao', 'Douglas', 'Lucas', 'José']\n",
    "sobreNomes = ['Soares', 'Souza', 'Silveira', 'Pedreira']\n",
    "idades = [19, 28, 25, 31]\n",
    "\n",
    "pessoa = list(zip(primeirosNomes, sobreNomes, idades))\n",
    "\n",
    "for i, j, k in pessoa:\n",
    "    print(i, j,'- está com', k, 'anos')"
   ]
  },
  {
   "cell_type": "code",
   "execution_count": 21,
   "metadata": {
    "pycharm": {
     "name": "#%%\n"
    }
   },
   "outputs": [
    {
     "name": "stdout",
     "output_type": "stream",
     "text": [
      "[1, 2, 3, 4, 4, 11, 11, 14, 25, 25, 53]\n",
      "[1, 2, 3, 4, 11, 11, 14, 25, 25, 53]\n",
      "[1, 2, 3, 4, 11, 14, 25, 25, 53]\n",
      "[1, 2, 3, 4, 11, 14, 25, 53]\n"
     ]
    }
   ],
   "source": [
    "#Exercicio 5\n",
    "a = [3, 25, 14, 25, 53, 1, 2, 4, 11, 11, 3, 4]\n",
    "\n",
    "def tira_Duplicados(lista):\n",
    "    lista.sort()\n",
    "    for i in lista:\n",
    "        if lista.count(i) > 1:\n",
    "            lista.remove(i)\n",
    "            print(lista)\n",
    "\n",
    "tira_Duplicados(a)\n"
   ]
  },
  {
   "cell_type": "code",
   "execution_count": 22,
   "metadata": {
    "pycharm": {
     "name": "#%%\n"
    }
   },
   "outputs": [
    {
     "name": "stdout",
     "output_type": "stream",
     "text": [
      "1\n",
      "\n",
      "12\n",
      "\n",
      "31234\n",
      "\n",
      "12\n",
      "\n",
      "42\n",
      "\n",
      "\n",
      "\n",
      "125\n",
      "\n",
      "53\n",
      "\n",
      "534\n",
      "\n",
      "26\n",
      "\n",
      "3456\n",
      "\n",
      "24\n",
      "\n",
      "26\n",
      "\n",
      "346\n",
      "\n",
      "324\n",
      "\n"
     ]
    }
   ],
   "source": [
    "#Exercicio 6\n",
    "\n",
    "arq = open(\"numbers.txt\", \"r\")\n",
    "\n",
    "for line in arq.readlines():\n",
    "    print(line)\n",
    "\n",
    "arq.close()"
   ]
  },
  {
   "cell_type": "code",
   "execution_count": 23,
   "metadata": {
    "pycharm": {
     "name": "#%%\n"
    }
   },
   "outputs": [
    {
     "name": "stdout",
     "output_type": "stream",
     "text": [
      "name = Fulano Da Silva\n",
      "endereco = Rua Sem Nome, 31\n",
      "startDateExecution = 2019-06-25 16:25:23.233\n",
      "endDateExecution = 2019-06-25 16:25:23.331\n",
      "siteId = BrasilDesktop\n",
      "sitePage = /\n",
      "serverName = AS1332:10181\n",
      "profileId = 8947071299\n",
      "type = JSP_RENDERING\n",
      "path = testado/com\n",
      "performanceType = JSP_RENDERING\n"
     ]
    }
   ],
   "source": [
    "#Exercicio 7\n",
    "import json\n",
    "arq = open(\"../semana_3/person.json\", \"r\")\n",
    "\n",
    "js = json.load(arq)\n",
    "\n",
    "for key, value in js.items():\n",
    "    print('{} = {}'.format(key, value))\n"
   ]
  },
  {
   "cell_type": "code",
   "execution_count": 24,
   "metadata": {
    "pycharm": {
     "name": "#%%\n"
    }
   },
   "outputs": [
    {
     "name": "stdout",
     "output_type": "stream",
     "text": [
      "110\n",
      "156\n",
      "182\n",
      "240\n",
      "420\n",
      "650\n",
      "812\n",
      "1056\n"
     ]
    }
   ],
   "source": [
    "#Exercicio 8\n",
    "a = [10, 12, 13, 15, 20, 25, 28, 32]\n",
    "\n",
    "def multiply_next(n):\n",
    "    return n*(n+1)\n",
    "\n",
    "def myMap(list, f):\n",
    "    for i in list:\n",
    "        print(f(i))\n",
    "\n",
    "myMap(a, multiply_next)"
   ]
  },
  {
   "cell_type": "code",
   "execution_count": 25,
   "metadata": {
    "pycharm": {
     "name": "#%%\n"
    }
   },
   "outputs": [
    {
     "name": "stdout",
     "output_type": "stream",
     "text": [
      "10\n",
      "14\n",
      "nove : 9\n",
      "branco : FFF\n"
     ]
    }
   ],
   "source": [
    "#Exercicio 9\n",
    "def func(*args, **kwargs):\n",
    "\n",
    "    for item in args:\n",
    "        print(item)\n",
    "    for key, value in kwargs.items():\n",
    "        print(key, ':', value)\n",
    "\n",
    "func(10, 14, nove='9', branco='FFF')"
   ]
  },
  {
   "cell_type": "code",
   "execution_count": 26,
   "metadata": {
    "pycharm": {
     "name": "#%%\n"
    }
   },
   "outputs": [
    {
     "name": "stdout",
     "output_type": "stream",
     "text": [
      "Lampada iniciou como True\n",
      "False\n",
      "True\n"
     ]
    }
   ],
   "source": [
    "#Exercicio 10\n",
    "\n",
    "\n",
    "\n",
    "class Lampada(object):\n",
    "    _state = False\n",
    "\n",
    "    def __init__(self, lamp):\n",
    "        self._state = lamp\n",
    "        print(\"Lampada iniciou como\", lamp)\n",
    "\n",
    "    @classmethod\n",
    "    def liga(self):\n",
    "        self._state = True\n",
    "\n",
    "    @classmethod\n",
    "    def desliga(self):\n",
    "        self._state = False\n",
    "\n",
    "    @classmethod\n",
    "    def esta_ligada(self):\n",
    "        return self._state\n",
    "\n",
    "l1 = Lampada(lamp = True)\n",
    "\n",
    "\n",
    "l1.desliga()\n",
    "\n",
    "print(l1.esta_ligada())\n",
    "\n",
    "l1.liga()\n",
    "\n",
    "print(l1.esta_ligada())\n",
    "\n"
   ]
  },
  {
   "cell_type": "code",
   "execution_count": 27,
   "metadata": {
    "pycharm": {
     "name": "#%%\n"
    }
   },
   "outputs": [
    {
     "name": "stdout",
     "output_type": "stream",
     "text": [
      "256\n"
     ]
    }
   ],
   "source": [
    "#Exercicio 11\n",
    "import re\n",
    "\n",
    "def soma(list):\n",
    "    somar = 0\n",
    "\n",
    "    for i in list:\n",
    "        if int(i):\n",
    "            somar += int(i)\n",
    "\n",
    "    return somar\n",
    "\n",
    "num = input(\"Digite os numeros:\")\n",
    "\n",
    "num2 = re.split(',',num)\n",
    "\n",
    "result =soma(num2)\n",
    "\n",
    "print(result)"
   ]
  },
  {
   "cell_type": "code",
   "execution_count": 28,
   "metadata": {
    "pycharm": {
     "name": "#%%\n"
    }
   },
   "outputs": [
    {
     "name": "stdout",
     "output_type": "stream",
     "text": [
      "Dividido em 3 partes iguais: [1, 2, 3, 4, 5, 6] [7, 8, 9, 10, 11, 12] [13, 14, 15, 16, 17, 18]\n"
     ]
    }
   ],
   "source": [
    "#Exercicio 12\n",
    "\n",
    "\n",
    "def divideTres(list):\n",
    "    if len(list)%3 == 0:\n",
    "        div = round(len(list)/3)\n",
    "\n",
    "        a= list[:div]\n",
    "        b= list[div:div+div]\n",
    "        c= list[div+div:len(list)]\n",
    "        print(\"Dividido em 3 partes iguais:\", a, b, c)\n",
    "    else:\n",
    "        print(\"Nao é possivel dividir em 3 partes iguais\")\n",
    "\n",
    "\n",
    "x = list([1, 2, 3, 4, 5, 6, 7, 8, 9, 10, 11, 12, 13, 14, 15, 16, 17, 18])\n",
    "\n",
    "divideTres(x)"
   ]
  },
  {
   "cell_type": "code",
   "execution_count": 29,
   "metadata": {
    "pycharm": {
     "name": "#%%\n"
    }
   },
   "outputs": [
    {
     "name": "stdout",
     "output_type": "stream",
     "text": [
      "chave: jan \tvalor: 47\n",
      "chave: feb \tvalor: 52\n",
      "chave: march \tvalor: 47\n",
      "chave: April \tvalor: 44\n",
      "chave: May \tvalor: 52\n",
      "chave: June \tvalor: 53\n",
      "chave: july \tvalor: 54\n",
      "chave: Aug \tvalor: 44\n",
      "chave: Sept \tvalor: 54\n",
      "[44, 47, 52, 53, 54]\n"
     ]
    }
   ],
   "source": [
    "#Exercicio 13\n",
    "speed = {'jan':47, 'feb':52, 'march':47, 'April':44, 'May':52, 'June':53, 'july':54, 'Aug':44,\n",
    "'Sept':54}\n",
    "values = []\n",
    "\n",
    "def tira_Duplicados(list):\n",
    "    list.sort()\n",
    "    for i in list:\n",
    "        if list.count(i) > 1:\n",
    "            list.remove(i)\n",
    "    return list\n",
    "\n",
    "\n",
    "\n",
    "def separa_Valor(dict):\n",
    "    for key, value in dict.items():\n",
    "        values.append(value)\n",
    "        print(\"chave:\", key, \"\\tvalor:\", value)\n",
    "\n",
    "    return tira_Duplicados(values)\n",
    "\n",
    "result = separa_Valor(speed)\n",
    "\n",
    "print (result)\n"
   ]
  },
  {
   "cell_type": "code",
   "execution_count": 33,
   "metadata": {
    "pycharm": {
     "name": "#%%\n"
    }
   },
   "outputs": [
    {
     "name": "stdout",
     "output_type": "stream",
     "text": [
      "O valor minimo da lista é  6\n",
      "O valor maximo da lista é 489\n",
      "A média é 230.98\n",
      "A mediana é 232 e 246 resultando em: 239.0\n"
     ]
    }
   ],
   "source": [
    "#Exercicio 14\n",
    "\n",
    "import random\n",
    "# amostra aleatoriamente 50 números do intervalo 0...500\n",
    "random_list = random.sample(range(500), 50)\n",
    "sum = 0\n",
    "r2 = sorted(random_list)\n",
    "\n",
    "mediana_index = round(len(random_list)/2)\n",
    "print(\"O valor minimo da lista é \", r2[0])\n",
    "print(\"O valor maximo da lista é\", r2[len(random_list)-1])\n",
    "\n",
    "for i in r2:\n",
    "    sum += i\n",
    "\n",
    "print (\"A média é\", sum/len(random_list)-1)\n",
    "\n",
    "if(len(random_list)%2 != 1):\n",
    "    print (\"A mediana é\", r2[mediana_index-1], \"e\", r2[mediana_index], \"resultando em:\",  (r2[mediana_index-1]+r2[mediana_index])/2)\n",
    "else:\n",
    "    print (\"A mediana é\", r2[mediana_index])"
   ]
  },
  {
   "cell_type": "code",
   "execution_count": 31,
   "metadata": {
    "pycharm": {
     "name": "#%%\n"
    }
   },
   "outputs": [
    {
     "name": "stdout",
     "output_type": "stream",
     "text": [
      "[89, 55, 34, 21, 13, 8, 5, 3, 2, 1, 1]\n"
     ]
    }
   ],
   "source": [
    "#Exercicio 15\n",
    "a = [1,1,2,3,5,8,13,21,34,55,89]\n",
    "\n",
    "b = a[::-1]\n",
    "\n",
    "print(b)"
   ]
  },
  {
   "cell_type": "code",
   "execution_count": 32,
   "metadata": {
    "pycharm": {
     "name": "#%%\n"
    }
   },
   "outputs": [
    {
     "name": "stdout",
     "output_type": "stream",
     "text": [
      "Exercicio 01: 79 Autor: Robert DeNiro\n",
      "Exercicio 02: 37.88\n",
      "Exercicio 03: 451.8 Autor: Anthony Daniels\n",
      "Exercicio 04: 936.7 Filme: Star Wars: The Force Awakens\n"
     ]
    }
   ],
   "source": [
    "#Exercicio 16\n",
    "import csv\n",
    "\n",
    "arq = open('../semana_3/actors.csv', \"r\")\n",
    "reader = csv.reader(arq)\n",
    "next(reader)\n",
    "\n",
    "\n",
    "actor = []\n",
    "total_gross = []\n",
    "number_of_movies = []\n",
    "average_per_movie = []\n",
    "first_movie = []\n",
    "gross = []\n",
    "soma = 0\n",
    "\n",
    "for line in reader:\n",
    "\n",
    "    soma += int(line[2])\n",
    "    actor.append(line[0])\n",
    "    total_gross.append(float(line[1]))\n",
    "    number_of_movies.append(int(line[2]))\n",
    "    average_per_movie.append(float(line[3]))\n",
    "    first_movie.append(line[4])\n",
    "    gross.append(float(line[5]))\n",
    "\n",
    "media_movies = soma / (reader.line_num-1)\n",
    "print(\"Exercicio 01:\", max(number_of_movies),\"Autor:\", actor[number_of_movies.index(max(number_of_movies))])\n",
    "print(\"Exercicio 02:\", media_movies)\n",
    "print(\"Exercicio 03:\", max(average_per_movie),\"Autor:\", actor[average_per_movie.index(max(average_per_movie))])\n",
    "print(\"Exercicio 04:\", max(gross),\"Filme:\", first_movie[gross.index(max(gross))])\n"
   ]
  }
 ],
 "metadata": {
  "kernelspec": {
   "display_name": "Python 3",
   "language": "python",
   "name": "python3"
  },
  "language_info": {
   "codemirror_mode": {
    "name": "ipython",
    "version": 3
   },
   "file_extension": ".py",
   "mimetype": "text/x-python",
   "name": "python",
   "nbconvert_exporter": "python",
   "pygments_lexer": "ipython3",
   "version": "3.8.8"
  }
 },
 "nbformat": 4,
 "nbformat_minor": 1
}
