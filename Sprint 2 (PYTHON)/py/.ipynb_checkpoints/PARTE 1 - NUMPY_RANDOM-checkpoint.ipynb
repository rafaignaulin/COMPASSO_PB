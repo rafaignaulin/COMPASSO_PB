{
 "cells": [
  {
   "cell_type": "code",
   "execution_count": 14,
   "id": "7b3b0fa7",
   "metadata": {},
   "outputs": [
    {
     "data": {
      "text/plain": [
       "array([0.17514717, 0.37501434, 0.35829744])"
      ]
     },
     "execution_count": 14,
     "metadata": {},
     "output_type": "execute_result"
    }
   ],
   "source": [
    "import numpy as np\n",
    "np.random.random((3))"
   ]
  },
  {
   "cell_type": "code",
   "execution_count": 11,
   "id": "85cdbc86",
   "metadata": {},
   "outputs": [
    {
     "data": {
      "text/plain": [
       "array([[32, 43, 44, 42, 42, 10],\n",
       "       [23, 25,  9,  4, 26,  8],\n",
       "       [17,  4,  7, 40, 22, 44]])"
      ]
     },
     "execution_count": 11,
     "metadata": {},
     "output_type": "execute_result"
    }
   ],
   "source": [
    "np.random.randint(low=3, high=50, size=(3,6))"
   ]
  },
  {
   "cell_type": "code",
   "execution_count": 42,
   "id": "201dea7a",
   "metadata": {},
   "outputs": [
    {
     "data": {
      "text/plain": [
       "'Joao'"
      ]
     },
     "execution_count": 42,
     "metadata": {},
     "output_type": "execute_result"
    }
   ],
   "source": [
    "nomes = [\"Rafael\", 'Joana', \"Mariana\", \"Vitor\", \"Joao\"]\n",
    "\n",
    "np.random.choice(nomes)"
   ]
  },
  {
   "cell_type": "code",
   "execution_count": 92,
   "id": "877a7a2d",
   "metadata": {},
   "outputs": [
    {
     "name": "stdout",
     "output_type": "stream",
     "text": [
      "[49 87 78 58 97 81 56 53 44 68 86 76 52 52 91 60 56 67 59 68]\n"
     ]
    },
    {
     "data": {
      "text/plain": [
       "67"
      ]
     },
     "execution_count": 92,
     "metadata": {},
     "output_type": "execute_result"
    }
   ],
   "source": [
    "rand_values = np.random.randint(40, 99, 20)\n",
    "print(rand_values)\n",
    "np.percentile(rand_values, 50, interpolation='nearest')"
   ]
  },
  {
   "cell_type": "code",
   "execution_count": 113,
   "id": "6fd7cbb2",
   "metadata": {},
   "outputs": [
    {
     "name": "stdout",
     "output_type": "stream",
     "text": [
      "Original:\n",
      " [[0 1 2]\n",
      " [3 4 5]\n",
      " [6 7 8]]\n",
      "[3 6]\n",
      "[[3 4 5]\n",
      " [3 4 5]\n",
      " [3 4 5]\n",
      " [3 4 5]\n",
      " [3 4 5]\n",
      " [3 4 5]\n",
      " [3 4 5]\n",
      " [6 7 8]\n",
      " [6 7 8]\n",
      " [6 7 8]\n",
      " [6 7 8]]\n"
     ]
    }
   ],
   "source": [
    "a = np.arange(9).reshape(3,3)\n",
    "\n",
    "print(\"Original:\\n\", a)\n",
    "\n",
    "print(a[[1,2], [0,0]])\n",
    "\n",
    "print(a[[1,1,1,1,1,1,1,2,2,2,2]]) # [linhas] [colunas]"
   ]
  },
  {
   "cell_type": "code",
   "execution_count": 120,
   "id": "fe8abc90",
   "metadata": {},
   "outputs": [
    {
     "name": "stdout",
     "output_type": "stream",
     "text": [
      "[[ 0  1  2]\n",
      " [ 3  4  5]\n",
      " [ 6  7  8]\n",
      " [ 9 10 11]]\n",
      "[[ 0  2]\n",
      " [ 9 11]]\n"
     ]
    }
   ],
   "source": [
    "a = np.arange(12).reshape(4,3)\n",
    "\n",
    "print(a)\n",
    "\n",
    "rows = np.array([[0,0],\n",
    "                 [3,3]], dtype=np.int32)\n",
    "\n",
    "columns = np.array([[0, 2],\n",
    "                    [0, 2]], dtype=np.int32)\n",
    "\n",
    "print(a[rows,columns])"
   ]
  },
  {
   "cell_type": "code",
   "execution_count": 122,
   "id": "4fa45e4d",
   "metadata": {},
   "outputs": [
    {
     "name": "stdout",
     "output_type": "stream",
     "text": [
      "Conteudo do array:\n",
      " [9 6 0 1 0 9 4 3 8]\n",
      "Indices retornados pelo argsort:\n",
      " [2 4 3 7 6 1 8 0 5]\n",
      "Valores contidos nos indices retornados pelo argsort:\n",
      " [0 0 1 3 4 6 8 9 9]\n"
     ]
    }
   ],
   "source": [
    "a = np.random.randint(0,10,9)\n",
    "\n",
    "print(\"Conteudo do array:\\n\", a)\n",
    "\n",
    "indices = np.argsort(a)\n",
    "\n",
    "print(\"Indices retornados pelo argsort:\\n\", indices)\n",
    "\n",
    "print(\"Valores contidos nos indices retornados pelo argsort:\\n\", a[indices])\n"
   ]
  },
  {
   "cell_type": "code",
   "execution_count": 124,
   "id": "6ed55cd3",
   "metadata": {},
   "outputs": [
    {
     "name": "stdout",
     "output_type": "stream",
     "text": [
      "Array\n",
      " [6 0 6 4 6 0 7 7 4]\n",
      "Valores unicos do array\n",
      " [0 4 6 7]\n",
      "Frequencia de cada valor\n",
      " [2 2 3 2]\n"
     ]
    }
   ],
   "source": [
    "a = np.random.randint(0,10,9)\n",
    "unicos, frequencia = np.unique(a, return_counts=True)\n",
    "print(\"Array\\n\", a)\n",
    "print(\"Valores unicos do array\\n\", unicos)\n",
    "print(\"Frequencia de cada valor\\n\", frequencia)"
   ]
  },
  {
   "cell_type": "code",
   "execution_count": 136,
   "id": "3663a8e1",
   "metadata": {},
   "outputs": [
    {
     "name": "stdout",
     "output_type": "stream",
     "text": [
      "Array\n",
      " [2 0 7 2 3 3 9 6 3]\n",
      "Array com numeros menores que 5\n",
      " [ True  True False  True  True  True False False  True]\n",
      "Valor do Array com numeros menores que 5\n",
      " [2 0 2 3 3 3]\n",
      "\n",
      "\n",
      "\n",
      "Array com numeros menores que 5\n",
      " [ True  True False  True False False False  True False]\n",
      "Valor do Array com numeros menores que 5\n",
      " [2 0 2 6]\n"
     ]
    }
   ],
   "source": [
    "a = np.random.randint(0,10,9)\n",
    "\n",
    "print(\"Array\\n\", a)\n",
    "print(\"Array com numeros menores que 5\\n\", a<5)\n",
    "print(\"Valor do Array com numeros menores que 5\\n\", a[a<5])\n",
    "\n",
    "print(\"\\n\\n\\nArray com numeros menores que 5\\n\", (a==5) | (a%2 == 0) )\n",
    "print(\"Valor do Array com numeros menores que 5\\n\", a[(a==5) | (a%2 == 0)])\n"
   ]
  },
  {
   "cell_type": "code",
   "execution_count": 137,
   "id": "77ca27b9",
   "metadata": {},
   "outputs": [
    {
     "name": "stdout",
     "output_type": "stream",
     "text": [
      "Array original\n",
      " [[0 1 2]\n",
      " [3 4 5]\n",
      " [6 7 8]]\n",
      "Mascara\n",
      " [[False False False]\n",
      " [False  True  True]\n",
      " [ True  True  True]]\n",
      "Conteudo retornado pelo where\n",
      " [[10 11 12]\n",
      " [13  4  5]\n",
      " [ 6  7  8]]\n"
     ]
    }
   ],
   "source": [
    "a = np.arange(9).reshape(3,3)\n",
    "print(\"Array original\\n\", a)\n",
    "mascara = a > 3\n",
    "print(\"Mascara\\n\", mascara)\n",
    "print(\"Conteudo retornado pelo where\\n\", np.where(mascara, a, a+10))"
   ]
  },
  {
   "cell_type": "code",
   "execution_count": 206,
   "id": "40a62eef",
   "metadata": {},
   "outputs": [
    {
     "name": "stdout",
     "output_type": "stream",
     "text": [
      "Array\n",
      " [[ 0  1  2  3  4]\n",
      " [ 5  6  7  8  9]\n",
      " [10 11 12 13 14]\n",
      " [15 16 17 18 19]\n",
      " [20 21 22 23 24]]\n",
      "Media das linhas 0, 2, 3: 10.333333333333334\n",
      "Media das colunas 0, 1, 4: 11.666666666666666\n",
      "28\n"
     ]
    }
   ],
   "source": [
    "#Exercicio 01\n",
    "\n",
    "a = np.arange(25).reshape(5, 5)\n",
    "print(\"Array\\n\", a)\n",
    "print(\"Media das linhas 0, 2, 3:\", np.mean(a[[0,2,3],:]))\n",
    "print(\"Media das colunas 0, 1, 4:\", np.mean(a[:,[0,1,4]]))\n",
    "\n",
    "mascara = np.zeros(5, dtype=np.bool_)\n",
    "x, y = np.shape(a)\n",
    "mascara[[x-1, y-1]] = True\n",
    "\n",
    "#soma = np.sum(np.diagonal(a)) + np.sum(np.fliplr(a).diagonal())\n",
    "\n",
    "soma = np.sum(a[[0,4],[4,4]])\n",
    "\n",
    "print( soma)"
   ]
  },
  {
   "cell_type": "code",
   "execution_count": 209,
   "id": "e34e70fe",
   "metadata": {},
   "outputs": [
    {
     "name": "stdout",
     "output_type": "stream",
     "text": [
      "Array\n",
      " [[ 0  1  2  3  4]\n",
      " [ 5  6  7  8  9]\n",
      " [10 11 12 13 14]\n",
      " [15 16 17 18 19]\n",
      " [20 21 22 23 24]]\n",
      "Array com pares e valores maiores que 10 [ 0  2  4  6  8 10 11 12 13 14 15 16 17 18 19 20 21 22 23 24]\n"
     ]
    }
   ],
   "source": [
    "#Exercicio 02\n",
    "\n",
    "a = np.arange(25).reshape(5, 5)\n",
    "\n",
    "print(\"Array\\n\", a)\n",
    "\n",
    "print(\"Array com pares e valores maiores que 10\", a[(a%2 == 0) | (a > 10)])"
   ]
  },
  {
   "cell_type": "code",
   "execution_count": 239,
   "id": "0d72dc00",
   "metadata": {},
   "outputs": [
    {
     "name": "stdout",
     "output_type": "stream",
     "text": [
      "Array\n",
      " [[12  4  3 14  2]\n",
      " [14 33 26 19 25]\n",
      " [41 16 17 34 19]\n",
      " [35 14 38 19 43]\n",
      " [38 39 48  7 15]]\n",
      "False\n",
      "Selecionando os 5 menores valores do array\n",
      " [2]\n"
     ]
    },
    {
     "name": "stderr",
     "output_type": "stream",
     "text": [
      "<ipython-input-239-fd98aaad646a>:16: DeprecationWarning: elementwise comparison failed; this will raise an error in the future.\n",
      "  print(mascara[:5] == [x < 5])\n"
     ]
    }
   ],
   "source": [
    "#Exercicio 03\n",
    "\n",
    "a = np.random.randint(0, 50, (5, 5))\n",
    "\n",
    "print(\"Array\\n\", a)\n",
    "\n",
    "b = np.ndarray.flatten(a)\n",
    "x = np.argsort(b)\n",
    "\n",
    "\n",
    "mascara = np.zeros_like(b, dtype=np.bool_)\n",
    "\n",
    "mascara[:5] = -1\n",
    "\n",
    "\n",
    "    \n",
    "print(\"Selecionando os 5 menores valores do array\\n\", a[a == a.min()])"
   ]
  }
 ],
 "metadata": {
  "kernelspec": {
   "display_name": "Python 3",
   "language": "python",
   "name": "python3"
  },
  "language_info": {
   "codemirror_mode": {
    "name": "ipython",
    "version": 3
   },
   "file_extension": ".py",
   "mimetype": "text/x-python",
   "name": "python",
   "nbconvert_exporter": "python",
   "pygments_lexer": "ipython3",
   "version": "3.8.8"
  }
 },
 "nbformat": 4,
 "nbformat_minor": 5
}
