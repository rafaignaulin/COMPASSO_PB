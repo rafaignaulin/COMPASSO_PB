{
 "cells": [
  {
   "cell_type": "code",
   "execution_count": 4,
   "id": "c5f90796",
   "metadata": {},
   "outputs": [
    {
     "name": "stdout",
     "output_type": "stream",
     "text": [
      "[[ 1  2  3  4  5]\n",
      " [ 6  7  8  9 10]\n",
      " [11 12 13 14 15]\n",
      " [16 17 18 19 20]\n",
      " [21 22 23 24 25]]\n",
      "Soma dos elementos da diagonal: 65\n"
     ]
    }
   ],
   "source": [
    "#Exercicio 1\n",
    "import numpy\n",
    "\n",
    "matrix = numpy.arange(1, 26).reshape(5, 5)\n",
    "\n",
    "print(matrix)\n",
    "print(\"Soma dos elementos da diagonal:\", numpy.sum(numpy.diagonal(matrix)))"
   ]
  },
  {
   "cell_type": "code",
   "execution_count": 5,
   "id": "c87179cb",
   "metadata": {},
   "outputs": [
    {
     "name": "stdout",
     "output_type": "stream",
     "text": [
      "[[ 2  4  6  8 10]\n",
      " [12 14 16 18 20]\n",
      " [22 24 26 28 30]\n",
      " [32 34 36 38 40]\n",
      " [42 44 46 48 50]]\n",
      "Soma dos elementos das linhas : [110 120 130 140 150]\n",
      "Soma dos elementos das colunas : [ 30  80 130 180 230]\n",
      "Media dos elementos da ultima linha : 46.0\n",
      "Media dos elementos da ultima coluna : 30.0\n"
     ]
    }
   ],
   "source": [
    "#Exercicio 2\n",
    "matrix = numpy.arange(2, 51, 2).reshape(5, 5)\n",
    "\n",
    "print(matrix)\n",
    "print(\"Soma dos elementos das linhas :\", numpy.sum(matrix, axis=0))\n",
    "print(\"Soma dos elementos das colunas :\", numpy.sum(matrix, axis=1))\n",
    "print(\"Media dos elementos da ultima linha :\", numpy.mean(matrix[4]))\n",
    "print(\"Media dos elementos da ultima coluna :\", numpy.mean(matrix[0:5, 4]))"
   ]
  },
  {
   "cell_type": "code",
   "execution_count": 63,
   "id": "e7ca07be",
   "metadata": {},
   "outputs": [
    {
     "name": "stdout",
     "output_type": "stream",
     "text": [
      "[ 4.76496355 -0.97045377 -0.91004976  0.29200505 -2.37561081  3.31235035\n",
      " -1.90437547  0.52106912  1.45480918  1.52869025  1.50582092 -6.50587355\n",
      " -2.14594268 -2.63412027 -2.55108983 -0.73511518  0.98441436  2.4185599\n",
      " -1.1529855   1.33372474 -3.14116028  0.59307659 -0.69353445 -0.05427887\n",
      " -6.90205946] Elemento retirado: 4.7649635458412325\n",
      "Lista depois da remocao:\n",
      " [ 0.         -0.97045377 -0.91004976  0.29200505 -2.37561081  3.31235035\n",
      " -1.90437547  0.52106912  1.45480918  1.52869025  1.50582092 -6.50587355\n",
      " -2.14594268 -2.63412027 -2.55108983 -0.73511518  0.98441436  2.4185599\n",
      " -1.1529855   1.33372474 -3.14116028  0.59307659 -0.69353445 -0.05427887\n",
      " -6.90205946]\n"
     ]
    }
   ],
   "source": [
    "array = numpy.random.normal(0, 3, size=(5, 5))\n",
    "\n",
    "a = array.flatten()\n",
    "print(a,\"Elemento retirado:\",  numpy.max(a))\n",
    "a[numpy.argmax(a)] = 0\n",
    "print(\"Lista depois da remocao:\\n\", a)\n"
   ]
  },
  {
   "cell_type": "code",
   "execution_count": 64,
   "id": "8be598f7",
   "metadata": {},
   "outputs": [
    {
     "name": "stdout",
     "output_type": "stream",
     "text": [
      "[[0.34301437 0.8255689  0.54000256 0.80486295]\n",
      " [0.18848282 0.49865046 0.33664144 0.66757557]\n",
      " [0.62902118 1.19881464 0.74111952 1.45528047]\n",
      " [0.5133488  0.76972567 0.43822654 1.0890499 ]\n",
      " [0.24989438 0.73670323 0.50950344 1.06566032]]\n"
     ]
    }
   ],
   "source": [
    "#Exercicio 4\n",
    "a = numpy.random.uniform(size=(5, 3))\n",
    "b = numpy.random.uniform(size=(3, 4))\n",
    "\n",
    "c = a.dot(b)\n",
    "print (c)"
   ]
  },
  {
   "cell_type": "code",
   "execution_count": 65,
   "id": "95f6e7dd",
   "metadata": {},
   "outputs": [
    {
     "name": "stdout",
     "output_type": "stream",
     "text": [
      "[[0 1 2]\n",
      " [3 4 5]\n",
      " [6 7 8]]\n"
     ]
    }
   ],
   "source": [
    "#Exercicio 5\n",
    "a = numpy.arange(9, dtype=numpy.float32).reshape(3, 3)\n",
    "\n",
    "b = a.astype(numpy.int32)\n",
    "print(b)"
   ]
  },
  {
   "cell_type": "code",
   "execution_count": 83,
   "id": "b463cf2e",
   "metadata": {},
   "outputs": [
    {
     "name": "stdout",
     "output_type": "stream",
     "text": [
      "[[0.41974894 0.36055251 0.83950763 0.43484159 0.47111255 0.65766851\n",
      "  0.52510788 0.04624527]\n",
      " [0.06217608 0.73021044 0.10503859 0.40538773 0.38301026 0.56503825\n",
      "  0.62779879 0.72856719]\n",
      " [0.24844447 0.66818356 0.06446578 0.69598551 0.27329709 0.626221\n",
      "  0.46285764 0.30799919]\n",
      " [0.72770123 0.93830121 0.23244482 0.51981171 0.65882325 0.84240227\n",
      "  0.66092735 0.30306941]\n",
      " [0.92729477 0.42232423 0.16361728 0.79303896 0.88816088 0.92592581\n",
      "  0.7118866  0.47481711]\n",
      " [0.90735836 0.92052372 0.78269662 0.9345358  0.10039707 0.72396428\n",
      "  0.25087734 0.50847762]\n",
      " [0.4129736  0.93603917 0.19899269 0.037406   0.24642433 0.40070864\n",
      "  0.42855576 0.2044655 ]\n",
      " [0.57617222 0.13163993 0.70267218 0.43967959 0.91469755 0.15935372\n",
      "  0.50853422 0.66047529]]\n",
      "Soma 10 nos elementos da ultima coluna :\n",
      " [10.04624527 10.72856719 10.30799919 10.30306941 10.47481711 10.50847762\n",
      " 10.2044655  10.66047529]\n"
     ]
    }
   ],
   "source": [
    "#Exercicio 6\n",
    "a = numpy.random.uniform(size=(8, 8))\n",
    "print(a)\n",
    "#a[0:8, 7]\n",
    "somado = numpy.add(a[0:8, 7], 10)\n",
    "print(\"Soma 10 nos elementos da ultima coluna :\\n\", somado)"
   ]
  },
  {
   "cell_type": "code",
   "execution_count": 85,
   "id": "87218220",
   "metadata": {},
   "outputs": [
    {
     "name": "stdout",
     "output_type": "stream",
     "text": [
      "[[ 1  5  9 13]\n",
      " [ 2  6 10 14]\n",
      " [ 3  7 11 15]\n",
      " [ 4  8 12 16]]\n"
     ]
    }
   ],
   "source": [
    "#Exercicio 7\n",
    "array = numpy.arange(1, 17).reshape(4,4).transpose()\n",
    "\n",
    "print(array)"
   ]
  },
  {
   "cell_type": "code",
   "execution_count": 86,
   "id": "7fb5ab0f",
   "metadata": {},
   "outputs": [
    {
     "name": "stdout",
     "output_type": "stream",
     "text": [
      "[[ 0  3  4  5]\n",
      " [ 7 10  9  2]\n",
      " [ 1  4  9 12]\n",
      " [15 22 19 17]]\n"
     ]
    }
   ],
   "source": [
    "#Exercicio 8\n",
    "a = numpy.array([[0,3,4,5], [7, 10, 9, 2]])\n",
    "b = numpy.array([[1,4,9,12], [15, 22, 19, 17]])\n",
    "\n",
    "c = numpy.stack((a, b)).reshape(4,4)\n",
    "\n",
    "print(c)"
   ]
  },
  {
   "cell_type": "code",
   "execution_count": 114,
   "id": "6c9acca8",
   "metadata": {},
   "outputs": [
    {
     "name": "stdout",
     "output_type": "stream",
     "text": [
      "Quantidade de filmes: 79 Autor: Robert DeNiro\n",
      "Media de quantidade de filmes: 37.88\n",
      "Media por filme: 451.8 Autor: Anthony Daniels\n",
      "Maior Gross: 936.7 Filme: Star Wars: The Force Awakens\n"
     ]
    }
   ],
   "source": [
    "#Exercicio 9\n",
    "import csv\n",
    "\n",
    "arq = open('../semana_3/actors.csv', \"r\")\n",
    "reader = csv.reader(arq)\n",
    "next(reader)\n",
    "\n",
    "\n",
    "actor = []\n",
    "total_gross = []\n",
    "number_of_movies = []\n",
    "average_per_movie = []\n",
    "first_movie = []\n",
    "gross = []\n",
    "\n",
    "\n",
    "for line in reader:\n",
    "    \n",
    "    actor.append(line[0])\n",
    "    total_gross.append(float(line[1]))\n",
    "    number_of_movies.append(int(line[2]))\n",
    "    average_per_movie.append(float(line[3]))\n",
    "    first_movie.append(line[4])\n",
    "    gross.append(float(line[5]))\n",
    "    \n",
    "print(\"Quantidade de filmes:\", number_of_movies[numpy.argmax(number_of_movies)], \"Autor:\",\n",
    "      actor[numpy.argmax(number_of_movies)]\n",
    "     )\n",
    "print(\"Media de quantidade de filmes:\", numpy.mean(number_of_movies))\n",
    "print(\"Media por filme:\", average_per_movie[numpy.argmax(average_per_movie)], \"Autor:\",\n",
    "      actor[numpy.argmax(average_per_movie)]\n",
    "     )\n",
    "print(\"Maior Gross:\", gross[numpy.argmax(gross)], \"Filme:\",\n",
    "      first_movie[numpy.argmax(gross)]\n",
    "     )"
   ]
  }
 ],
 "metadata": {
  "kernelspec": {
   "display_name": "Python 3",
   "language": "python",
   "name": "python3"
  },
  "language_info": {
   "codemirror_mode": {
    "name": "ipython",
    "version": 3
   },
   "file_extension": ".py",
   "mimetype": "text/x-python",
   "name": "python",
   "nbconvert_exporter": "python",
   "pygments_lexer": "ipython3",
   "version": "3.8.8"
  }
 },
 "nbformat": 4,
 "nbformat_minor": 5
}
