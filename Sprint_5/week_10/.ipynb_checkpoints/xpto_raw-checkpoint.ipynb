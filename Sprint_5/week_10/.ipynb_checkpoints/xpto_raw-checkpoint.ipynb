{
 "cells": [
  {
   "cell_type": "code",
   "execution_count": 4,
   "metadata": {},
   "outputs": [],
   "source": [
    "import tweepy\n",
    "import json\n",
    "# BEARER = 'AAAAAAAAAAAAAAAAAAAAAL2YRwEAAAAAraFZWowkSnaEod0vV6U4lKhHgwk%3DPom9PWdKzESnZqnLStCkAxZ0vHS8QnLnExi6rEaH6PPSQ9oie6'\n",
    "\n",
    "twitter_keys = {\n",
    "    'consumer_key': 'xsLmIoXBMS5AyP9ApgjlVDutz',\n",
    "    'consumer_secret': 'efjjVQrGOZfMQwNSZPXXAbEp0YpTBgvDUvzgwzy3dlJzcZqxMU',\n",
    "    'access_token_key': '841044884048007170-QFO951QfYWjL4YjJVQ5oIV56b3BWKWy',\n",
    "    'access_token_secret': '7VYCyHDZ79GfU1KcKrAG281ua453PWIG0yIBHw01GZx3l'\n",
    "}"
   ]
  },
  {
   "cell_type": "code",
   "execution_count": 3,
   "metadata": {},
   "outputs": [],
   "source": [
    "from pyspark import SparkContext\n",
    "from pyspark.streaming import StreamingContext\n",
    "sc = SparkContext(\"local[2]\", \"ContarPalavrasJanelaTempo\")\n",
    "ssc = StreamingContext(sc, 2)"
   ]
  },
  {
   "cell_type": "code",
   "execution_count": 5,
   "metadata": {},
   "outputs": [],
   "source": [
    "auth = tweepy.OAuthHandler(twitter_keys['consumer_key'], twitter_keys['consumer_secret'])\n",
    "auth.set_access_token(twitter_keys['access_token_key'], twitter_keys['access_token_secret'])\n",
    "api = tweepy.API(auth)"
   ]
  },
  {
   "cell_type": "code",
   "execution_count": 6,
   "metadata": {},
   "outputs": [],
   "source": [
    "class MyStreamListener(tweepy.StreamListener):\n",
    "\n",
    "    def on_status(self, status):\n",
    "        strTweet = json.dumps(status._json, indent=4, sort_keys=True, ensure_ascii=False)\n",
    "        print(strTweet)\n",
    "        # converter o datetime do createdat para date apenas\n",
    "        # status.id, status.text, status.created_at\n",
    "        json.dumps(status.id, status.text, status.created_at , indent=4, sort_keys=True, ensure_ascii=False)\n",
    "        consulta = status._json\\\n",
    "              .writeStream \\\n",
    "              .outputMode(\"append\") \\\n",
    "              .limit(100) \\\n",
    "              .start()\n",
    "        consulta.awaitTermination()"
   ]
  },
  {
   "cell_type": "code",
   "execution_count": 7,
   "metadata": {},
   "outputs": [],
   "source": [
    "myStreamListener = MyStreamListener()\n",
    "myStream = tweepy.Stream(auth = api.auth, listener=myStreamListener, lang='pt-br')"
   ]
  },
  {
   "cell_type": "code",
   "execution_count": null,
   "metadata": {},
   "outputs": [],
   "source": [
    "search_words = ['Bolsonaro', 'Presidente do Brasil']\n",
    "myStream.filter(track=search_words)"
   ]
  }
 ],
 "metadata": {
  "kernelspec": {
   "display_name": "Python 3",
   "language": "python",
   "name": "python3"
  },
  "language_info": {
   "codemirror_mode": {
    "name": "ipython",
    "version": 3
   },
   "file_extension": ".py",
   "mimetype": "text/x-python",
   "name": "python",
   "nbconvert_exporter": "python",
   "pygments_lexer": "ipython3",
   "version": "3.8.8"
  }
 },
 "nbformat": 4,
 "nbformat_minor": 2
}
