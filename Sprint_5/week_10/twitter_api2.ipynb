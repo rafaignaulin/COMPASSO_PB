{
 "cells": [
  {
   "cell_type": "code",
   "execution_count": 12,
   "metadata": {},
   "outputs": [],
   "source": [
    "import tweepy\n",
    "import json\n",
    "# BEARER = 'AAAAAAAAAAAAAAAAAAAAAL2YRwEAAAAAraFZWowkSnaEod0vV6U4lKhHgwk%3DPom9PWdKzESnZqnLStCkAxZ0vHS8QnLnExi6rEaH6PPSQ9oie6'\n",
    "\n",
    "twitter_keys = {\n",
    "    'consumer_key': 'xsLmIoXBMS5AyP9ApgjlVDutz',\n",
    "    'consumer_secret': 'efjjVQrGOZfMQwNSZPXXAbEp0YpTBgvDUvzgwzy3dlJzcZqxMU',\n",
    "    'access_token_key': '841044884048007170-QFO951QfYWjL4YjJVQ5oIV56b3BWKWy',\n",
    "    'access_token_secret': '7VYCyHDZ79GfU1KcKrAG281ua453PWIG0yIBHw01GZx3l'\n",
    "}"
   ]
  },
  {
   "cell_type": "code",
   "execution_count": 13,
   "metadata": {},
   "outputs": [],
   "source": [
    "auth = tweepy.OAuthHandler(twitter_keys['consumer_key'], twitter_keys['consumer_secret'])\n",
    "auth.set_access_token(twitter_keys['access_token_key'], twitter_keys['access_token_secret'])\n",
    "api = tweepy.API(auth)"
   ]
  },
  {
   "cell_type": "code",
   "execution_count": 14,
   "metadata": {},
   "outputs": [],
   "source": [
    "#Faz a chamada da sua timeline e imprime cada texto dos tweets\n",
    "\n",
    "search_words = ['Bolsonaro', 'Presidente do Brasil']\n",
    "date_since = '2021-06-01'\n",
    "\n",
    "public_tweets = tweepy.Cursor(api.search, \n",
    "                        q= search_words,\n",
    "                        lang='pt-br',\n",
    "                        since=date_since\n",
    "                        ).items(15)\n",
    "\n",
    "for tweets in public_tweets:\n",
    "    print(json.dumps(tweets._json, indent=4, sort_keys=True, ensure_ascii=False))"
   ]
  }
 ],
 "metadata": {
  "kernelspec": {
   "display_name": "Python 3.9.5 64-bit ('pythonProject': conda)",
   "metadata": {
    "interpreter": {
     "hash": "189a9b83933d3d3b4fe8badfa65d3063bb75781ec793b58c513d39b9b2e7f20f"
    }
   },
   "name": "python3"
  },
  "language_info": {
   "codemirror_mode": {
    "name": "ipython",
    "version": 3
   },
   "file_extension": ".py",
   "mimetype": "text/x-python",
   "name": "python",
   "nbconvert_exporter": "python",
   "pygments_lexer": "ipython3",
   "version": "3.9.5"
  },
  "orig_nbformat": 2
 },
 "nbformat": 4,
 "nbformat_minor": 2
}