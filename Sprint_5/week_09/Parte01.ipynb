{
 "cells": [
  {
   "cell_type": "code",
   "execution_count": 2,
   "id": "e40bb153",
   "metadata": {},
   "outputs": [],
   "source": [
    "from pyspark.sql import SparkSession\n",
    "from pyspark.sql import functions as f\n",
    "import numpy as np\n",
    "import pandas as pd\n",
    "\n",
    "spark = SparkSession\\\n",
    "    .builder\\\n",
    "    .appName(\"Python example\")\\\n",
    "    .getOrCreate()"
   ]
  },
  {
   "cell_type": "code",
   "execution_count": 9,
   "id": "368491cf",
   "metadata": {},
   "outputs": [
    {
     "name": "stdout",
     "output_type": "stream",
     "text": [
      "+------+------+---+---+\n",
      "| color| fruit| v1| v2|\n",
      "+------+------+---+---+\n",
      "|   red|banana|  1| 10|\n",
      "|purple|banana|  2| 20|\n",
      "| white|carrot|  3| 30|\n",
      "|  blue|banana|  4| 40|\n",
      "| green| grape|  5| 50|\n",
      "|  blue|carrot|  6| 60|\n",
      "|   red|banana|  7| 70|\n",
      "|   red| grape|  8| 80|\n",
      "| white|banana|  9| 90|\n",
      "+------+------+---+---+\n",
      "\n"
     ]
    }
   ],
   "source": [
    "df = spark.createDataFrame([\n",
    "    ['red', 'banana', 1, 10], ['purple', 'banana', 2, 20], ['white', 'carrot', 3, 30],\n",
    "    ['blue', 'banana', 4, 40], ['green', 'grape', 5, 50], ['blue', 'carrot', 6, 60],\n",
    "    ['red', 'banana', 7, 70], ['red', 'grape', 8, 80], ['white', 'banana', 9, 90],\n",
    "],  schema=['color', 'fruit', 'v1', 'v2'])\n",
    "\n",
    "df.show()"
   ]
  },
  {
   "cell_type": "code",
   "execution_count": 10,
   "id": "f9acadb4",
   "metadata": {},
   "outputs": [
    {
     "name": "stdout",
     "output_type": "stream",
     "text": [
      "+------+-----------------+------------------+\n",
      "| color|          avg(v1)|           avg(v2)|\n",
      "+------+-----------------+------------------+\n",
      "| green|              5.0|              50.0|\n",
      "|purple|              2.0|              20.0|\n",
      "| white|              6.0|              60.0|\n",
      "|   red|5.333333333333333|53.333333333333336|\n",
      "|  blue|              5.0|              50.0|\n",
      "+------+-----------------+------------------+\n",
      "\n"
     ]
    }
   ],
   "source": [
    "df.groupby(\"color\").avg().show()"
   ]
  },
  {
   "cell_type": "code",
   "execution_count": 3,
   "id": "002b038c",
   "metadata": {},
   "outputs": [
    {
     "name": "stdout",
     "output_type": "stream",
     "text": [
      "+-------+----------------+\n",
      "|numbers|reverse(numbers)|\n",
      "+-------+----------------+\n",
      "|    921|             129|\n",
      "|     89|              98|\n",
      "|    513|             315|\n",
      "|    548|             845|\n",
      "|    511|             115|\n",
      "|    988|             889|\n",
      "|    879|             978|\n",
      "|    115|             511|\n",
      "|    750|             057|\n",
      "|    111|             111|\n",
      "|    110|             011|\n",
      "|    654|             456|\n",
      "|     82|              28|\n",
      "|    635|             536|\n",
      "|    428|             824|\n",
      "|    133|             331|\n",
      "|    338|             833|\n",
      "|    499|             994|\n",
      "|    299|             992|\n",
      "|    514|             415|\n",
      "+-------+----------------+\n",
      "only showing top 20 rows\n",
      "\n"
     ]
    }
   ],
   "source": [
    "data = np.random.randint(1000, size=250)\n",
    "\n",
    "pandas_df = pd.DataFrame(data, columns=['numbers'])\n",
    "\n",
    "df = spark.createDataFrame(pandas_df)\n",
    "df.select(df.numbers, f.reverse(df.numbers)).show()"
   ]
  },
  {
   "cell_type": "code",
   "execution_count": 17,
   "id": "bb5d5139",
   "metadata": {},
   "outputs": [
    {
     "name": "stdout",
     "output_type": "stream",
     "text": [
      "Row(Animal='Abelha')\n",
      "Row(Animal='Aranha')\n",
      "Row(Animal='Avestruz')\n",
      "Row(Animal='Cachorro')\n",
      "Row(Animal='Cobra')\n",
      "Row(Animal='Galinha')\n",
      "Row(Animal='Gato')\n",
      "Row(Animal='Girafa')\n",
      "Row(Animal='Leopardo')\n",
      "Row(Animal='Leão')\n",
      "Row(Animal='Macaco')\n",
      "Row(Animal='Ornitorrinco')\n",
      "Row(Animal='Papagaio')\n",
      "Row(Animal='Pavão')\n",
      "Row(Animal='Rinoceronte')\n",
      "Row(Animal='Tigre')\n",
      "Row(Animal='Touro')\n",
      "Row(Animal='Tubarão')\n",
      "Row(Animal='Vaca')\n",
      "Row(Animal='Vespa')\n",
      "+------------+\n",
      "|      Animal|\n",
      "+------------+\n",
      "|      Abelha|\n",
      "|      Aranha|\n",
      "|    Avestruz|\n",
      "|    Cachorro|\n",
      "|       Cobra|\n",
      "|     Galinha|\n",
      "|        Gato|\n",
      "|      Girafa|\n",
      "|    Leopardo|\n",
      "|        Leão|\n",
      "|      Macaco|\n",
      "|Ornitorrinco|\n",
      "|    Papagaio|\n",
      "|       Pavão|\n",
      "| Rinoceronte|\n",
      "|       Tigre|\n",
      "|       Touro|\n",
      "|     Tubarão|\n",
      "|        Vaca|\n",
      "|       Vespa|\n",
      "+------------+\n",
      "\n"
     ]
    }
   ],
   "source": [
    "df = spark.createDataFrame([\n",
    "    ['Vaca'], ['Cachorro'], ['Gato'], ['Touro'], ['Galinha'],\n",
    "    ['Cobra'], ['Girafa'], ['Rinoceronte'], ['Macaco'], ['Ornitorrinco'],\n",
    "    ['Leão'], ['Tigre'], ['Papagaio'], ['Tubarão'], ['Pavão'],\n",
    "    ['Leopardo'], ['Avestruz'], ['Aranha'], ['Abelha'], ['Vespa']\n",
    "], schema=['Animal'])\n",
    "\n",
    "animal_df = df.orderBy('Animal')\n",
    " \n",
    "for line in animal_df.collect():\n",
    "    print(line)\n",
    "\n",
    "animal_df.show()\n",
    "animal_df.coalesce(1).write.mode('overwrite').csv('animal')"
   ]
  }
 ],
 "metadata": {
  "kernelspec": {
   "display_name": "Python 3",
   "language": "python",
   "name": "python3"
  },
  "language_info": {
   "codemirror_mode": {
    "name": "ipython",
    "version": 3
   },
   "file_extension": ".py",
   "mimetype": "text/x-python",
   "name": "python",
   "nbconvert_exporter": "python",
   "pygments_lexer": "ipython3",
   "version": "3.8.8"
  }
 },
 "nbformat": 4,
 "nbformat_minor": 5
}
