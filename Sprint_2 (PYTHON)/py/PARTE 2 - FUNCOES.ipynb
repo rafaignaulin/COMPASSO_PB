{
 "cells": [
  {
   "cell_type": "code",
   "execution_count": 12,
   "id": "ae098fca",
   "metadata": {},
   "outputs": [],
   "source": [
    "def printName(nome, sobrenome, inverte=False):\n",
    "    if inverte:\n",
    "        print(nome, sobrenome)\n",
    "        print(\"O sobrenome é {}, e o nome é {}\".format(sobrenome, nome))\n",
    "    else:\n",
    "        print(sobrenome, nome)"
   ]
  },
  {
   "cell_type": "code",
   "execution_count": 13,
   "id": "a7c35bad",
   "metadata": {},
   "outputs": [
    {
     "name": "stdout",
     "output_type": "stream",
     "text": [
      "Rafael Ignaulin\n",
      "O sobrenome é Ignaulin, e o nome é Rafael\n",
      "Ignaulin Rafael\n"
     ]
    }
   ],
   "source": [
    "printName(\"Rafael\", \"Ignaulin\", True)\n",
    "printName(\"Rafael\", \"Ignaulin\", False)"
   ]
  },
  {
   "cell_type": "code",
   "execution_count": 24,
   "id": "84b7ec9d",
   "metadata": {},
   "outputs": [],
   "source": [
    "def func(a, norm=False):\n",
    "    if norm:\n",
    "        return [(x - min(a))/ (max(a) - min(a)) for x in a]\n",
    "    else:\n",
    "        return a"
   ]
  },
  {
   "cell_type": "code",
   "execution_count": 25,
   "id": "e1d21def",
   "metadata": {},
   "outputs": [
    {
     "name": "stdout",
     "output_type": "stream",
     "text": [
      "[2, 4, 6]\n",
      "[0.0, 0.5, 1.0]\n"
     ]
    }
   ],
   "source": [
    "a = [2, 4, 6]\n",
    "print(func(a))\n",
    "print(func(a, True))"
   ]
  },
  {
   "cell_type": "code",
   "execution_count": 26,
   "id": "b1341b76",
   "metadata": {},
   "outputs": [],
   "source": [
    "def func(*args):\n",
    "    for item in args:\n",
    "        print(item)"
   ]
  },
  {
   "cell_type": "code",
   "execution_count": 27,
   "id": "51fe5240",
   "metadata": {},
   "outputs": [
    {
     "name": "stdout",
     "output_type": "stream",
     "text": [
      "134\n",
      "125\n",
      "1.4\n",
      "x\n",
      "['ba']\n",
      "12\n"
     ]
    }
   ],
   "source": [
    "func(134, 125, 1.4, 'x', ['b' + 'a'], 12)"
   ]
  },
  {
   "cell_type": "code",
   "execution_count": 28,
   "id": "55a39af5",
   "metadata": {},
   "outputs": [
    {
     "name": "stdout",
     "output_type": "stream",
     "text": [
      "a: hello, b: 10, c: 1.7\n"
     ]
    }
   ],
   "source": [
    "def func(a, b, c):\n",
    "    print('a: {}, b: {}, c: {}'.format(a, b, c))\n",
    "    \n",
    "params = {'b': 10, 'a': 'hello', 'c': 1.7}\n",
    "func(**params) # é equivalente a func(a=params['a'], b=params['b'], c=params['c'])"
   ]
  },
  {
   "cell_type": "code",
   "execution_count": 30,
   "id": "96f1a66d",
   "metadata": {},
   "outputs": [
    {
     "name": "stdout",
     "output_type": "stream",
     "text": [
      "4 27 256\n"
     ]
    }
   ],
   "source": [
    "def func(a, b, c):\n",
    "    return a**2, b**3, c**4\n",
    "a, b, c = func(2, 3, 4)\n",
    "print(a, b, c)"
   ]
  },
  {
   "cell_type": "code",
   "execution_count": 33,
   "id": "8f517851",
   "metadata": {},
   "outputs": [
    {
     "name": "stdout",
     "output_type": "stream",
     "text": [
      "3\n"
     ]
    }
   ],
   "source": [
    "a = [1, 2, 3]\n",
    "\n",
    "b, c, d = a\n",
    "print(d)\n"
   ]
  },
  {
   "cell_type": "code",
   "execution_count": 36,
   "id": "650d43cd",
   "metadata": {},
   "outputs": [
    {
     "name": "stdout",
     "output_type": "stream",
     "text": [
      "2\n",
      "3\n",
      "4\n",
      "5\n",
      "6\n",
      "7\n",
      "8\n",
      "9\n",
      "10\n"
     ]
    }
   ],
   "source": [
    "def addOne(n):\n",
    "    return n+1\n",
    "\n",
    "def applyToEach(maxN, f):\n",
    "    for i in range(1, maxN):\n",
    "        print(f(i))\n",
    "        \n",
    "applyToEach(10, addOne)"
   ]
  },
  {
   "cell_type": "code",
   "execution_count": 41,
   "id": "91e80fd3",
   "metadata": {},
   "outputs": [],
   "source": [
    "\n",
    "pi = 3.14159\n",
    "\n",
    "def area(raio):\n",
    "    return pi*(raio**2)\n",
    "def perimetro(raio):\n",
    "    return 2*pi*raio\n",
    "def superficie(raio):\n",
    "    return 4.0*area(raio)\n",
    "def volume(raio):\n",
    "    return(4.0/3.0)*pi*(raio**3)"
   ]
  },
  {
   "cell_type": "code",
   "execution_count": 42,
   "id": "531f3ebb",
   "metadata": {},
   "outputs": [
    {
     "name": "stdout",
     "output_type": "stream",
     "text": [
      "Digite o raio do circulo: 4\n",
      "Area do circulo: 50.26544\n",
      "perímetro do circulo: 25.13272\n",
      "Volume da esfera: 268.08234666666664\n"
     ]
    }
   ],
   "source": [
    "\n",
    "raio = float(input(\"Digite o raio do circulo: \"))\n",
    "print(\"Area do circulo:\", area(raio))\n",
    "print(\"perímetro do circulo:\", perimetro(raio))\n",
    "print(\"Volume da esfera:\", volume(raio))"
   ]
  },
  {
   "cell_type": "code",
   "execution_count": 45,
   "id": "008566bb",
   "metadata": {},
   "outputs": [
    {
     "name": "stdout",
     "output_type": "stream",
     "text": [
      "1\n",
      "\n",
      "12\n",
      "\n",
      "31234\n",
      "\n",
      "12\n",
      "\n",
      "42\n",
      "\n",
      "\n",
      "\n",
      "125\n",
      "\n",
      "53\n",
      "\n",
      "534\n",
      "\n",
      "26\n",
      "\n",
      "3456\n",
      "\n",
      "24\n",
      "\n",
      "26\n",
      "\n",
      "346\n",
      "\n",
      "324\n",
      "\n"
     ]
    }
   ],
   "source": [
    "arq = open(\"numbers.txt\", \"r\")\n",
    "\n",
    "for line in arq.readlines():\n",
    "    print(line)\n",
    "        \n",
    "arq.close()"
   ]
  },
  {
   "cell_type": "code",
   "execution_count": 47,
   "id": "a3a8e6cb",
   "metadata": {},
   "outputs": [
    {
     "name": "stdout",
     "output_type": "stream",
     "text": [
      "Arquivo criado\n"
     ]
    }
   ],
   "source": [
    "import random\n",
    "arq = open(\"numeros.txt\", \"w\")\n",
    "for i in range(0, 100):\n",
    "    val = random.random()\n",
    "    arq.write(str(val) + \"\\n\")\n",
    "print(\"Arquivo criado\")\n",
    "arq.close()\n"
   ]
  },
  {
   "cell_type": "code",
   "execution_count": 48,
   "id": "d09c0df4",
   "metadata": {},
   "outputs": [
    {
     "name": "stdout",
     "output_type": "stream",
     "text": [
      "4.423240048592472\n",
      "8.999533169208377\n",
      "2.4005137486540553\n",
      "4.041237524323908\n",
      "3.640340977902051\n",
      "5.320894745998704\n",
      "0.8253559023084123\n",
      "6.743712344238741\n",
      "9.16181385053009\n",
      "0.40138428365782075\n",
      "9.878259076449508\n",
      "8.444238874196792\n",
      "3.693955575334704\n",
      "9.332999252125715\n",
      "2.073123364966687\n",
      "0.8798952021566564\n",
      "6.69073369293176\n",
      "3.9040984989497907\n",
      "3.7927547094867076\n",
      "9.838079791376606\n",
      "6.8409173943871995\n",
      "9.820101098101599\n",
      "2.5800451029859808\n",
      "1.8382735941002748\n",
      "5.653931436673637\n",
      "1.2358896824512045\n",
      "6.066922149783155\n",
      "1.8456221191099487\n",
      "6.813341019001654\n",
      "5.035233391042539\n",
      "4.135438351641962\n",
      "8.545031567541606\n",
      "8.745328261477649\n",
      "5.563742504059263\n",
      "6.306529105483415\n",
      "4.713056507682274\n",
      "7.122907906657599\n",
      "3.0849465150407376\n",
      "7.770516429819894\n",
      "1.4355162146705325\n",
      "0.4520482019914185\n",
      "0.3136387483088976\n",
      "2.101512297223307\n",
      "8.839822402085455\n",
      "5.847745969510117\n",
      "5.817203077953431\n",
      "6.41349549748066\n",
      "6.664531447744109\n",
      "9.134973776852162\n",
      "5.784073174761709\n",
      "8.040943046299992\n",
      "8.91281175873342\n",
      "4.875379652043513\n",
      "6.662005045520596\n",
      "7.814447335473894\n",
      "7.678006997360631\n",
      "8.347726054410211\n",
      "8.814022740081684\n",
      "1.184935328689728\n",
      "4.385175059572369\n",
      "4.272609880118728\n",
      "8.617404216825076\n",
      "4.815609634347409\n",
      "8.002840316070678\n",
      "3.158831588816776\n",
      "4.076057622539297\n",
      "1.0879021407241285\n",
      "6.788580946740933\n",
      "7.924319564942948\n",
      "2.992840596115449\n",
      "1.352233536881885\n",
      "4.958485497689805\n",
      "7.6276794698259955\n",
      "8.150721413999879\n",
      "3.521844582971486\n",
      "1.325443009245627\n",
      "8.822098585020319\n",
      "7.632994504111896\n",
      "0.36714963867137684\n",
      "5.05817576491839\n",
      "3.2692807031100557\n",
      "5.735721509102926\n",
      "5.0696481669272515\n",
      "3.0460964282804346\n",
      "7.152871710655821\n",
      "6.013629838061122\n",
      "0.12943906433176222\n",
      "0.48660106551760895\n",
      "7.464577907567605\n",
      "3.087776827309059\n",
      "5.46260888126875\n",
      "2.4317761308614383\n",
      "1.333516657220285\n",
      "7.159868741682853\n",
      "3.203423041804483\n",
      "5.5825476430601375\n",
      "1.0544035737798252\n",
      "8.710649102280296\n",
      "8.054379083716336\n",
      "6.646692544467424\n"
     ]
    }
   ],
   "source": [
    "arq = open(\"numeros.txt\", \"r\")\n",
    "for line in arq.readlines():\n",
    "    print(float(line)*10)\n",
    "arq.close()"
   ]
  },
  {
   "cell_type": "code",
   "execution_count": null,
   "id": "84c91a5f",
   "metadata": {},
   "outputs": [],
   "source": []
  }
 ],
 "metadata": {
  "kernelspec": {
   "display_name": "Python 3",
   "language": "python",
   "name": "python3"
  },
  "language_info": {
   "codemirror_mode": {
    "name": "ipython",
    "version": 3
   },
   "file_extension": ".py",
   "mimetype": "text/x-python",
   "name": "python",
   "nbconvert_exporter": "python",
   "pygments_lexer": "ipython3",
   "version": "3.8.8"
  }
 },
 "nbformat": 4,
 "nbformat_minor": 5
}
