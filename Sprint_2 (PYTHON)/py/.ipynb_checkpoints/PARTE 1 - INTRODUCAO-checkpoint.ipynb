{
 "cells": [
  {
   "cell_type": "code",
   "execution_count": 1,
   "id": "da26e59e",
   "metadata": {},
   "outputs": [
    {
     "name": "stdout",
     "output_type": "stream",
     "text": [
      "Hello jupyter!\n"
     ]
    }
   ],
   "source": [
    "print(\"Hello jupyter!\")"
   ]
  },
  {
   "cell_type": "code",
   "execution_count": 5,
   "id": "5ed35242",
   "metadata": {},
   "outputs": [
    {
     "name": "stdout",
     "output_type": "stream",
     "text": [
      "10.0\n"
     ]
    }
   ],
   "source": [
    "inteiro = 10\n",
    "fl = float(inteiro)\n",
    "print(fl)"
   ]
  },
  {
   "cell_type": "code",
   "execution_count": 6,
   "id": "b4961fd7",
   "metadata": {},
   "outputs": [
    {
     "name": "stdout",
     "output_type": "stream",
     "text": [
      "11 10\n"
     ]
    }
   ],
   "source": [
    "inteiro = int('10') + 1\n",
    "string = str(10)\n",
    "print(inteiro, string)"
   ]
  },
  {
   "cell_type": "code",
   "execution_count": 12,
   "id": "8c2fe2f5",
   "metadata": {},
   "outputs": [
    {
     "data": {
      "text/plain": [
       "9"
      ]
     },
     "execution_count": 12,
     "metadata": {},
     "output_type": "execute_result"
    }
   ],
   "source": [
    "3**2"
   ]
  },
  {
   "cell_type": "code",
   "execution_count": 17,
   "id": "f4752d31",
   "metadata": {},
   "outputs": [
    {
     "data": {
      "text/plain": [
       "1"
      ]
     },
     "execution_count": 17,
     "metadata": {},
     "output_type": "execute_result"
    }
   ],
   "source": [
    "16%3\n"
   ]
  },
  {
   "cell_type": "code",
   "execution_count": 25,
   "id": "e6d3ab7c",
   "metadata": {},
   "outputs": [
    {
     "name": "stdout",
     "output_type": "stream",
     "text": [
      "17.204650534085253\n"
     ]
    }
   ],
   "source": [
    "import math\n",
    "print(math.sqrt(296))"
   ]
  },
  {
   "cell_type": "code",
   "execution_count": 2,
   "id": "bb55b9d8",
   "metadata": {},
   "outputs": [
    {
     "name": "stdout",
     "output_type": "stream",
     "text": [
      "0\n",
      "1\n",
      "2\n",
      "3\n",
      "4\n",
      "5\n",
      "6\n",
      "7\n",
      "8\n",
      "9\n"
     ]
    }
   ],
   "source": [
    "i = 0\n",
    "while i < 10:\n",
    "    print(i)\n",
    "    i = i + 1"
   ]
  },
  {
   "cell_type": "code",
   "execution_count": 5,
   "id": "058836db",
   "metadata": {},
   "outputs": [
    {
     "name": "stdout",
     "output_type": "stream",
     "text": [
      "-1\n"
     ]
    }
   ],
   "source": [
    "x = -1\n",
    "if x < 0:\n",
    "    print(x)"
   ]
  },
  {
   "cell_type": "code",
   "execution_count": 6,
   "id": "b03ca85c",
   "metadata": {},
   "outputs": [
    {
     "name": "stdout",
     "output_type": "stream",
     "text": [
      "-4\n",
      "-3\n",
      "-2\n",
      "-1\n",
      "0\n",
      "1\n",
      "2\n",
      "3\n",
      "4\n",
      "5\n",
      "6\n",
      "7\n",
      "8\n",
      "9\n",
      "10\n",
      "11\n",
      "12\n"
     ]
    }
   ],
   "source": [
    "for i in range(-4, 13):\n",
    "    print(i)"
   ]
  },
  {
   "cell_type": "code",
   "execution_count": 7,
   "id": "a04f8b11",
   "metadata": {},
   "outputs": [
    {
     "data": {
      "text/plain": [
       "'abcdefg'"
      ]
     },
     "execution_count": 7,
     "metadata": {},
     "output_type": "execute_result"
    }
   ],
   "source": [
    "\"abc\"+\"defg\""
   ]
  },
  {
   "cell_type": "code",
   "execution_count": 8,
   "id": "071f3a51",
   "metadata": {},
   "outputs": [
    {
     "data": {
      "text/plain": [
       "'pypypy'"
      ]
     },
     "execution_count": 8,
     "metadata": {},
     "output_type": "execute_result"
    }
   ],
   "source": [
    "3*\"py\""
   ]
  },
  {
   "cell_type": "code",
   "execution_count": 12,
   "id": "7de37331",
   "metadata": {},
   "outputs": [
    {
     "data": {
      "text/plain": [
       "'b'"
      ]
     },
     "execution_count": 12,
     "metadata": {},
     "output_type": "execute_result"
    }
   ],
   "source": [
    "\"abc\"[1]"
   ]
  },
  {
   "cell_type": "code",
   "execution_count": 21,
   "id": "4e3b68a7",
   "metadata": {},
   "outputs": [
    {
     "name": "stdout",
     "output_type": "stream",
     "text": [
      "Algum texto\n",
      "Texto formatado com número 12\n",
      "Algum textoEnter your name: ronaldo\n"
     ]
    }
   ],
   "source": [
    "print(\"Algum texto\")\n",
    "print(\"Texto formatado com número %d\"%12) #imprime \"Texto formatado com número 12\"\n",
    "print(\"Algum texto\",end=\"\") #imprime sem quebra de linha\n",
    "name = input('Enter your name: ')"
   ]
  },
  {
   "cell_type": "code",
   "execution_count": 22,
   "id": "3868d6db",
   "metadata": {},
   "outputs": [
    {
     "name": "stdout",
     "output_type": "stream",
     "text": [
      "Are you really ronaldo ?\n"
     ]
    }
   ],
   "source": [
    "print(\"Are you really\", name, \"?\")"
   ]
  },
  {
   "cell_type": "code",
   "execution_count": 28,
   "id": "1f5a241b",
   "metadata": {},
   "outputs": [
    {
     "ename": "NameError",
     "evalue": "name 'string' is not defined",
     "output_type": "error",
     "traceback": [
      "\u001b[0;31m---------------------------------------------------------------------------\u001b[0m",
      "\u001b[0;31mNameError\u001b[0m                                 Traceback (most recent call last)",
      "\u001b[0;32m<ipython-input-28-edbf08a562d5>\u001b[0m in \u001b[0;36m<module>\u001b[0;34m\u001b[0m\n\u001b[0;32m----> 1\u001b[0;31m \u001b[0mstring\u001b[0m\u001b[0;34m\u001b[0m\u001b[0;34m\u001b[0m\u001b[0m\n\u001b[0m",
      "\u001b[0;31mNameError\u001b[0m: name 'string' is not defined"
     ]
    }
   ],
   "source": [
    "string"
   ]
  },
  {
   "cell_type": "code",
   "execution_count": 36,
   "id": "9dc2eb81",
   "metadata": {},
   "outputs": [
    {
     "name": "stdout",
     "output_type": "stream",
     "text": [
      "The success/failure ratio is 7.846153846153846\n",
      "Now here\n"
     ]
    }
   ],
   "source": [
    "numSuccesses = 102\n",
    "numFailures = 13\n",
    "try:\n",
    "    successFailureRatio = numSuccesses/float(numFailures)\n",
    "    print('The success/failure ratio is', successFailureRatio)\n",
    "except ZeroDivisionError:\n",
    "    print('No failures so the success/failure ratio is undefined.')\n",
    "print ('Now here')"
   ]
  },
  {
   "cell_type": "code",
   "execution_count": 39,
   "id": "db1b55ca",
   "metadata": {},
   "outputs": [
    {
     "name": "stdout",
     "output_type": "stream",
     "text": [
      "Digite seu nome: Rafael\n",
      "Ok, seu nome é  Rafael\n",
      "Agora digite sua idade: 18\n",
      "Certo, voce tem  18 anos e vai completar 100 anos em 2103\n"
     ]
    }
   ],
   "source": [
    "name = input(\"Digite seu nome: \")\n",
    "print(\"Ok, seu nome é \", name)\n",
    "idade = input(\"Agora digite sua idade: \")\n",
    "hundredbirthday = (100 - int(idade)) + 2021\n",
    "print(\"Certo, voce tem \", int(idade) ,\"anos e vai completar 100 anos em\", hundredbirthday)"
   ]
  },
  {
   "cell_type": "code",
   "execution_count": 44,
   "id": "9b22f818",
   "metadata": {},
   "outputs": [
    {
     "name": "stdout",
     "output_type": "stream",
     "text": [
      "Digite qualquer numero inteiro: 15\n",
      "O numero  15 é impar\n"
     ]
    }
   ],
   "source": [
    "num = int(input(\"Digite qualquer numero inteiro: \"))\n",
    "if (num % 2) == 1:\n",
    "    print(\"O numero \", num ,\"é impar\")\n",
    "else:\n",
    "    print(\"O numero \", num ,\"é par\")"
   ]
  },
  {
   "cell_type": "code",
   "execution_count": 69,
   "id": "64d359a2",
   "metadata": {},
   "outputs": [
    {
     "name": "stdout",
     "output_type": "stream",
     "text": [
      "0\n",
      "2\n",
      "4\n",
      "6\n",
      "8\n",
      "10\n",
      "12\n",
      "14\n",
      "16\n",
      "18\n",
      "20\n"
     ]
    }
   ],
   "source": [
    "for x in range(0, 21, 2):\n",
    "    #if (x % 2) == 0:\n",
    "        print(x)"
   ]
  },
  {
   "cell_type": "code",
   "execution_count": 70,
   "id": "b4896686",
   "metadata": {},
   "outputs": [
    {
     "name": "stdout",
     "output_type": "stream",
     "text": [
      "['disney', 'rafael', 'ignaulin', 'orlando']\n",
      "4\n",
      "rafaelito\n"
     ]
    }
   ],
   "source": [
    "nomes = ['disney', 'rafael', 'ignaulin', 'orlando']\n",
    "print (nomes)\n",
    "print (len(nomes))\n",
    "print (nomes[1] + \"ito\")"
   ]
  },
  {
   "cell_type": "code",
   "execution_count": 71,
   "id": "0f5df363",
   "metadata": {},
   "outputs": [
    {
     "name": "stdout",
     "output_type": "stream",
     "text": [
      "[1, 2, 3, 4, 5, 6]\n",
      "[1, 2, 3, 4, 5, 6, 7]\n",
      "[4, 5, 6]\n",
      "[4, 5, 6, 8]\n",
      "[4, 5, 6, 8, 1, 2, 3, 4, 5, 6, 7]\n"
     ]
    }
   ],
   "source": [
    "a = [1, 2, 3]\n",
    "b = [4, 5, 6]\n",
    "a.extend(b)\n",
    "print (a)\n",
    "a.append(7)\n",
    "print(a)\n",
    "\n",
    "print(b)\n",
    "b.append(8)\n",
    "print(b)\n",
    "b.extend(a)\n",
    "print(b)"
   ]
  },
  {
   "cell_type": "code",
   "execution_count": 85,
   "id": "48bf05dd",
   "metadata": {},
   "outputs": [
    {
     "name": "stdout",
     "output_type": "stream",
     "text": [
      "7\n",
      "6\n",
      "5\n",
      "4\n",
      "3\n",
      "2\n",
      "1\n",
      "8\n",
      "6\n",
      "5\n",
      "4\n"
     ]
    }
   ],
   "source": [
    "for i in range(len(b)):\n",
    "    print(b[i])\n",
    "    #print(b[-i-1]) ordem inversa"
   ]
  },
  {
   "cell_type": "code",
   "execution_count": 92,
   "id": "1dea8310",
   "metadata": {},
   "outputs": [
    {
     "name": "stdout",
     "output_type": "stream",
     "text": [
      "4\n",
      "5\n",
      "6\n",
      "8\n",
      "1\n",
      "2\n",
      "3\n",
      "4\n",
      "5\n",
      "6\n",
      "7\n",
      "51\n"
     ]
    }
   ],
   "source": [
    "soma = 0\n",
    "for i in b:\n",
    "    soma += i\n",
    "    print (i)\n",
    "print (soma)"
   ]
  },
  {
   "cell_type": "code",
   "execution_count": 95,
   "id": "f96f4606",
   "metadata": {},
   "outputs": [
    {
     "name": "stdout",
     "output_type": "stream",
     "text": [
      "[0, 1, 2, 3, 4]\n",
      "[0, 1, 2, 3, 4]\n",
      "[2, 3, 4]\n",
      "[0, 1]\n",
      "[2, 3]\n",
      "[0, 1, 2, 3]\n",
      "[0, 1, 8, 9, 4]\n"
     ]
    }
   ],
   "source": [
    "nums = list(range(5))\n",
    "print(nums)\n",
    "print(nums[:]) # do início ao fim\n",
    "print(nums[2:]) # do 2o (incluso) até o fim\n",
    "print(nums[:2]) # do início ao 2o (excluso)\n",
    "print(nums[2:4]) # do 2o (incluso) ao 4o (excluso)\n",
    "print(nums[:-1]) # do início ao último (excluso)\n",
    "nums[2:4] = [8, 9] # atribuição\n",
    "print(nums)"
   ]
  },
  {
   "cell_type": "code",
   "execution_count": 99,
   "id": "9b222974",
   "metadata": {},
   "outputs": [
    {
     "name": "stdout",
     "output_type": "stream",
     "text": [
      "[1, 4, 9]\n"
     ]
    }
   ],
   "source": [
    "mixed = [1, 2, 'a', 3, 4.0]\n",
    "mixed = [x**2 for x in mixed if type(x) == int]\n",
    "print(mixed)"
   ]
  },
  {
   "cell_type": "code",
   "execution_count": 107,
   "id": "02900c59",
   "metadata": {},
   "outputs": [
    {
     "name": "stdout",
     "output_type": "stream",
     "text": [
      "['ba', 'na', 'na']\n"
     ]
    }
   ],
   "source": [
    "lista = ['b', 'n', 'n']\n",
    "lista1 = list(map(lambda x: x + 'a', lista))\n",
    "print(lista1)"
   ]
  },
  {
   "cell_type": "code",
   "execution_count": 118,
   "id": "799e2483",
   "metadata": {},
   "outputs": [
    {
     "name": "stdout",
     "output_type": "stream",
     "text": [
      "[(1, 4), (2, 5), (3, 6)]\n",
      "[(2, 5)]\n",
      "1\n",
      "2\n",
      "3\n"
     ]
    }
   ],
   "source": [
    "x = [1, 2, 3]\n",
    "y = [4, 5, 6]\n",
    "zipped = list(zip(x, y))\n",
    "print(zipped)\n",
    "print(zipped[1:2])\n",
    "\n",
    "for i, j in zipped:\n",
    "    print(i, j)"
   ]
  },
  {
   "cell_type": "code",
   "execution_count": 124,
   "id": "f3e3ac1f",
   "metadata": {},
   "outputs": [
    {
     "name": "stdout",
     "output_type": "stream",
     "text": [
      "17\n",
      "True\n",
      "chave: rafael \tvalor: 17\n",
      "chave: mateus \tvalor: 19\n",
      "chave: paje \tvalor: 24\n",
      "chave: rafael \tvalor: 17\n",
      "chave: mateus \tvalor: 19\n"
     ]
    }
   ],
   "source": [
    "names =  {'rafael': 17, 'mateus': 19, 'paje': 24}\n",
    "\n",
    "print(names['rafael'])\n",
    "print('rafael' in names)\n",
    "\n",
    "for key, value in names.items():\n",
    "    print(\"chave:\", key, \"\\tvalor:\", value)\n",
    "\n",
    "del names['paje']\n",
    "\n",
    "for key, value in names.items():\n",
    "    print(\"chave:\", key, \"\\tvalor:\", value)"
   ]
  },
  {
   "cell_type": "code",
   "execution_count": null,
   "id": "7d533f10",
   "metadata": {},
   "outputs": [],
   "source": []
  }
 ],
 "metadata": {
  "kernelspec": {
   "display_name": "Python 3",
   "language": "python",
   "name": "python3"
  },
  "language_info": {
   "codemirror_mode": {
    "name": "ipython",
    "version": 3
   },
   "file_extension": ".py",
   "mimetype": "text/x-python",
   "name": "python",
   "nbconvert_exporter": "python",
   "pygments_lexer": "ipython3",
   "version": "3.8.8"
  }
 },
 "nbformat": 4,
 "nbformat_minor": 5
}
