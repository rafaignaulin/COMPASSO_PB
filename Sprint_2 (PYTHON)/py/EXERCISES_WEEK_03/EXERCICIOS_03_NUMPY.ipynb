{
 "cells": [
  {
   "cell_type": "code",
   "execution_count": 20,
   "id": "c5f90796",
   "metadata": {},
   "outputs": [
    {
     "name": "stdout",
     "output_type": "stream",
     "text": [
      "[[ 1  2  3  4  5]\n",
      " [ 6  7  8  9 10]\n",
      " [11 12 13 14 15]\n",
      " [16 17 18 19 20]\n",
      " [21 22 23 24 25]]\n",
      "Soma dos elementos da diagonal: 65\n"
     ]
    }
   ],
   "source": [
    "#Exercicio 1\n",
    "import numpy\n",
    "\n",
    "matrix = numpy.arange(1, 26).reshape(5, 5)\n",
    "\n",
    "print(matrix)\n",
    "print(\"Soma dos elementos da diagonal:\", numpy.sum(numpy.diagonal(matrix)))"
   ]
  },
  {
   "cell_type": "code",
   "execution_count": 21,
   "id": "c87179cb",
   "metadata": {},
   "outputs": [
    {
     "name": "stdout",
     "output_type": "stream",
     "text": [
      "[[ 2  4  6  8 10]\n",
      " [12 14 16 18 20]\n",
      " [22 24 26 28 30]\n",
      " [32 34 36 38 40]\n",
      " [42 44 46 48 50]]\n",
      "Soma dos elementos das linhas : [110 120 130 140 150]\n",
      "Soma dos elementos das colunas : [ 30  80 130 180 230]\n",
      "Media dos elementos da ultima linha : 46.0\n",
      "Media dos elementos da ultima coluna : 30.0\n"
     ]
    }
   ],
   "source": [
    "#Exercicio 2\n",
    "matrix = numpy.arange(2, 51, 2).reshape(5, 5)\n",
    "\n",
    "print(matrix)\n",
    "print(\"Soma dos elementos das linhas :\", numpy.sum(matrix, axis=0))\n",
    "print(\"Soma dos elementos das colunas :\", numpy.sum(matrix, axis=1))\n",
    "print(\"Media dos elementos da ultima linha :\", numpy.mean(matrix[4]))\n",
    "print(\"Media dos elementos da ultima coluna :\", numpy.mean(matrix[0:5, 4]))"
   ]
  },
  {
   "cell_type": "code",
   "execution_count": 22,
   "id": "e7ca07be",
   "metadata": {},
   "outputs": [
    {
     "name": "stdout",
     "output_type": "stream",
     "text": [
      "[-0.67585312  4.83311362 -2.56404669  4.81856379  2.38206019  0.11242689\n",
      "  1.51133943 -1.26579813 -4.25813975  1.94274302  4.29037002  2.2865131\n",
      " -1.49289744 -0.15277483  0.62083066 -6.74578429  4.13778064 -0.77271723\n",
      "  0.43913641 -0.29089288 -0.67553524  3.76091106 -1.96696823  0.4946067\n",
      "  0.55200285] Elemento retirado: 4.833113621212235\n",
      "Lista depois da remocao:\n",
      " [-0.67585312  0.         -2.56404669  4.81856379  2.38206019  0.11242689\n",
      "  1.51133943 -1.26579813 -4.25813975  1.94274302  4.29037002  2.2865131\n",
      " -1.49289744 -0.15277483  0.62083066 -6.74578429  4.13778064 -0.77271723\n",
      "  0.43913641 -0.29089288 -0.67553524  3.76091106 -1.96696823  0.4946067\n",
      "  0.55200285]\n"
     ]
    }
   ],
   "source": [
    "array = numpy.random.normal(0, 3, size=(5, 5))\n",
    "\n",
    "a = array.flatten()\n",
    "print(a,\"Elemento retirado:\",  numpy.max(a))\n",
    "a[numpy.argmax(a)] = 0\n",
    "print(\"Lista depois da remocao:\\n\", a)\n"
   ]
  },
  {
   "cell_type": "code",
   "execution_count": 23,
   "id": "8be598f7",
   "metadata": {},
   "outputs": [
    {
     "name": "stdout",
     "output_type": "stream",
     "text": [
      "[[0.68562172 1.18640374 1.01219574 1.17837986]\n",
      " [0.71863539 1.59947821 1.46629248 1.27211135]\n",
      " [0.28104323 0.59401429 0.51114694 0.6541612 ]\n",
      " [0.69633799 1.21446256 1.07638498 0.97046752]\n",
      " [0.52345335 1.10019863 0.95889501 1.13358877]]\n"
     ]
    }
   ],
   "source": [
    "#Exercicio 4\n",
    "a = numpy.random.uniform(size=(5, 3))\n",
    "b = numpy.random.uniform(size=(3, 4))\n",
    "\n",
    "c = a.dot(b)\n",
    "print (c)"
   ]
  },
  {
   "cell_type": "code",
   "execution_count": 24,
   "id": "95f6e7dd",
   "metadata": {},
   "outputs": [
    {
     "name": "stdout",
     "output_type": "stream",
     "text": [
      "[[0 1 2]\n",
      " [3 4 5]\n",
      " [6 7 8]]\n"
     ]
    }
   ],
   "source": [
    "#Exercicio 5\n",
    "a = numpy.arange(9, dtype=numpy.float32).reshape(3, 3)\n",
    "\n",
    "b = a.astype(numpy.int32)\n",
    "print(b)"
   ]
  },
  {
   "cell_type": "code",
   "execution_count": 25,
   "id": "b463cf2e",
   "metadata": {},
   "outputs": [
    {
     "name": "stdout",
     "output_type": "stream",
     "text": [
      "[[0.52936124 0.07495243 0.15104453 0.61138772 0.18126226 0.95967482\n",
      "  0.43977457 0.12973676]\n",
      " [0.028296   0.82289897 0.66447546 0.05987721 0.90035505 0.97094365\n",
      "  0.2300732  0.77650487]\n",
      " [0.12603709 0.94024465 0.88113089 0.35900704 0.46545402 0.2529062\n",
      "  0.43870303 0.09511365]\n",
      " [0.65831418 0.70454154 0.13123236 0.39412251 0.57942746 0.28907015\n",
      "  0.46093384 0.02837666]\n",
      " [0.94997041 0.9922356  0.2879719  0.6351879  0.68419848 0.25273136\n",
      "  0.58983891 0.56772972]\n",
      " [0.65097451 0.18314444 0.20380823 0.88946974 0.88413774 0.02212201\n",
      "  0.72274587 0.34325257]\n",
      " [0.34297549 0.91328193 0.27281982 0.00241796 0.34009066 0.51559697\n",
      "  0.03806573 0.10852365]\n",
      " [0.58871711 0.67927336 0.10150188 0.82811438 0.21465987 0.37281242\n",
      "  0.81091733 0.32094137]]\n",
      "Soma 10 nos elementos da ultima coluna :\n",
      " [10.12973676 10.77650487 10.09511365 10.02837666 10.56772972 10.34325257\n",
      " 10.10852365 10.32094137]\n"
     ]
    }
   ],
   "source": [
    "#Exercicio 6\n",
    "a = numpy.random.uniform(size=(8, 8))\n",
    "print(a)\n",
    "#a[0:8, 7]\n",
    "somado = numpy.add(a[0:8, 7], 10)\n",
    "print(\"Soma 10 nos elementos da ultima coluna :\\n\", somado)"
   ]
  },
  {
   "cell_type": "code",
   "execution_count": 26,
   "id": "87218220",
   "metadata": {},
   "outputs": [
    {
     "name": "stdout",
     "output_type": "stream",
     "text": [
      "[[ 1  5  9 13]\n",
      " [ 2  6 10 14]\n",
      " [ 3  7 11 15]\n",
      " [ 4  8 12 16]]\n"
     ]
    }
   ],
   "source": [
    "#Exercicio 7\n",
    "array = numpy.arange(1, 17).reshape(4,4).transpose()\n",
    "\n",
    "print(array)"
   ]
  },
  {
   "cell_type": "code",
   "execution_count": 27,
   "id": "7fb5ab0f",
   "metadata": {},
   "outputs": [
    {
     "name": "stdout",
     "output_type": "stream",
     "text": [
      "[[ 0  3  4  5]\n",
      " [ 7 10  9  2]\n",
      " [ 1  4  9 12]\n",
      " [15 22 19 17]]\n"
     ]
    }
   ],
   "source": [
    "#Exercicio 8\n",
    "a = numpy.array([[0,3,4,5], [7, 10, 9, 2]])\n",
    "b = numpy.array([[1,4,9,12], [15, 22, 19, 17]])\n",
    "\n",
    "c = numpy.stack((a, b)).reshape(4,4)\n",
    "\n",
    "print(c)"
   ]
  },
  {
   "cell_type": "code",
   "execution_count": 28,
   "id": "6c9acca8",
   "metadata": {},
   "outputs": [
    {
     "name": "stdout",
     "output_type": "stream",
     "text": [
      "Quantidade de filmes: 79 Autor: Robert DeNiro\n",
      "Media de quantidade de filmes: 37.88\n",
      "Media por filme: 451.8 Autor: Anthony Daniels\n",
      "Maior Gross: 936.7 Filme: Star Wars: The Force Awakens\n"
     ]
    }
   ],
   "source": [
    "#Exercicio 9\n",
    "import csv\n",
    "\n",
    "arq = open('actors.csv', \"r\")\n",
    "reader = csv.reader(arq)\n",
    "next(reader)\n",
    "\n",
    "\n",
    "actor = []\n",
    "total_gross = []\n",
    "number_of_movies = []\n",
    "average_per_movie = []\n",
    "first_movie = []\n",
    "gross = []\n",
    "\n",
    "\n",
    "for line in reader:\n",
    "    \n",
    "    actor.append(line[0])\n",
    "    total_gross.append(float(line[1]))\n",
    "    number_of_movies.append(int(line[2]))\n",
    "    average_per_movie.append(float(line[3]))\n",
    "    first_movie.append(line[4])\n",
    "    gross.append(float(line[5]))\n",
    "    \n",
    "print(\"Quantidade de filmes:\", number_of_movies[numpy.argmax(number_of_movies)], \"Autor:\",\n",
    "      actor[numpy.argmax(number_of_movies)]\n",
    "     )\n",
    "print(\"Media de quantidade de filmes:\", numpy.mean(number_of_movies))\n",
    "print(\"Media por filme:\", average_per_movie[numpy.argmax(average_per_movie)], \"Autor:\",\n",
    "      actor[numpy.argmax(average_per_movie)]\n",
    "     )\n",
    "print(\"Maior Gross:\", gross[numpy.argmax(gross)], \"Filme:\",\n",
    "      first_movie[numpy.argmax(gross)]\n",
    "     )"
   ]
  }
 ],
 "metadata": {
  "kernelspec": {
   "display_name": "Python 3",
   "language": "python",
   "name": "python3"
  },
  "language_info": {
   "codemirror_mode": {
    "name": "ipython",
    "version": 3
   },
   "file_extension": ".py",
   "mimetype": "text/x-python",
   "name": "python",
   "nbconvert_exporter": "python",
   "pygments_lexer": "ipython3",
   "version": "3.8.8"
  }
 },
 "nbformat": 4,
 "nbformat_minor": 5
}