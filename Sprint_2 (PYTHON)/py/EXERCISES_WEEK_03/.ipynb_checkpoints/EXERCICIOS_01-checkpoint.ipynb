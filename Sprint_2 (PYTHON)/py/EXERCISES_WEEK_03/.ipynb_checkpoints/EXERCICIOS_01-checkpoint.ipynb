{
 "cells": [
  {
   "cell_type": "code",
   "execution_count": 10,
   "metadata": {
    "pycharm": {
     "name": "#%%\n"
    }
   },
   "outputs": [
    {
     "name": "stdout",
     "output_type": "stream",
     "text": [
      "Ok, seu nome é  rafa\n",
      "Certo, voce tem  3 anos e vai completar 100 anos em 2118\n"
     ]
    }
   ],
   "source": [
    "#Exercicio 01\n",
    "name = input(\"Digite seu nome: \")\n",
    "print(\"Ok, seu nome é \", name)\n",
    "idade = input(\"Agora digite sua idade: \")\n",
    "\n",
    "if int(idade) < 100:\n",
    "    hundredbirthday = (100 - int(idade)) + 2021\n",
    "    print(\"Certo, voce tem \", int(idade) ,\"anos e vai completar 100 anos em\", hundredbirthday)\n",
    "else:\n",
    "    print(\"Voce ja fez 100 anos\")"
   ]
  },
  {
   "cell_type": "code",
   "execution_count": 11,
   "metadata": {
    "pycharm": {
     "name": "#%%\n"
    }
   },
   "outputs": [
    {
     "name": "stdout",
     "output_type": "stream",
     "text": [
      "O numero  3 é impar\n"
     ]
    }
   ],
   "source": [
    "#Exercicio 02\n",
    "num = int(input(\"Digite qualquer numero inteiro: \"))\n",
    "if (num % 2) == 1:\n",
    "    print(\"O numero \", num ,\"é impar\")\n",
    "else:\n",
    "    print(\"O numero \", num ,\"é par\")"
   ]
  },
  {
   "cell_type": "code",
   "execution_count": 12,
   "metadata": {
    "pycharm": {
     "name": "#%%\n"
    }
   },
   "outputs": [
    {
     "name": "stdout",
     "output_type": "stream",
     "text": [
      "0\n",
      "2\n",
      "4\n",
      "6\n",
      "8\n",
      "10\n",
      "12\n",
      "14\n",
      "16\n",
      "18\n",
      "20\n"
     ]
    }
   ],
   "source": [
    "#Exercicio 03\n",
    "for x in range(0, 21, 2):\n",
    "    print(x)"
   ]
  }
 ],
 "metadata": {
  "kernelspec": {
   "display_name": "Python 3",
   "language": "python",
   "name": "python3"
  },
  "language_info": {
   "codemirror_mode": {
    "name": "ipython",
    "version": 3
   },
   "file_extension": ".py",
   "mimetype": "text/x-python",
   "name": "python",
   "nbconvert_exporter": "python",
   "pygments_lexer": "ipython3",
   "version": "3.8.8"
  }
 },
 "nbformat": 4,
 "nbformat_minor": 1
}
